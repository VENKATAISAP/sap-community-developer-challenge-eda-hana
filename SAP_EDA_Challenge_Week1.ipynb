{
  "nbformat": 4,
  "nbformat_minor": 0,
  "metadata": {
    "colab": {
      "provenance": [],
      "authorship_tag": "ABX9TyOc3deBo8Y4mpS3VUOYNcKW"
    },
    "kernelspec": {
      "name": "python3",
      "display_name": "Python 3"
    },
    "language_info": {
      "name": "python"
    }
  },
  "cells": [
    {
      "cell_type": "code",
      "execution_count": null,
      "metadata": {
        "colab": {
          "base_uri": "https://localhost:8080/"
        },
        "id": "2Z_A67QhCqSN",
        "outputId": "fcb444ad-3879-45e4-a49b-7e878d7d4e26"
      },
      "outputs": [
        {
          "output_type": "stream",
          "name": "stdout",
          "text": [
            "Python 3.9.16\n"
          ]
        }
      ],
      "source": [
        "!python -V"
      ]
    },
    {
      "cell_type": "code",
      "source": [
        "!pip install hana-ml"
      ],
      "metadata": {
        "id": "-FFXs2xDDiyr"
      },
      "execution_count": null,
      "outputs": []
    },
    {
      "cell_type": "code",
      "source": [
        "import hana_ml\n",
        "print(\"The package version: \", hana_ml.__version__)"
      ],
      "metadata": {
        "colab": {
          "base_uri": "https://localhost:8080/"
        },
        "id": "O18m9ENnDJq4",
        "outputId": "cb407ac2-a0fc-4dd0-fcfb-fcbc50c2cbc8"
      },
      "execution_count": null,
      "outputs": [
        {
          "output_type": "stream",
          "name": "stdout",
          "text": [
            "The package version:  2.16.23031601\n"
          ]
        }
      ]
    },
    {
      "cell_type": "code",
      "source": [
        "from hana_ml import dataframe as hdf"
      ],
      "metadata": {
        "id": "AaHnnvEqDv9I"
      },
      "execution_count": null,
      "outputs": []
    },
    {
      "cell_type": "code",
      "source": [
        "from hana_ml.dataframe import ConnectionContext"
      ],
      "metadata": {
        "id": "AfdxG8exsbOW"
      },
      "execution_count": 14,
      "outputs": []
    },
    {
      "cell_type": "code",
      "source": [
        "cc = ConnectionContext('e8c8bf75-fd07-426a-9c7a-7e0d4c6d8562.hana.trial-us10.hanacloud.ondemand.com',443,'','')\n",
        "print(cc.hana_version())\n"
      ],
      "metadata": {
        "colab": {
          "base_uri": "https://localhost:8080/"
        },
        "id": "zQTzaWansMYW",
        "outputId": "1ff539ac-2c7c-4647-8d26-ca8e5b07750b"
      },
      "execution_count": 23,
      "outputs": [
        {
          "output_type": "stream",
          "name": "stdout",
          "text": [
            "4.00.000.00.1678185420 (fa/CE2022.42)\n"
          ]
        }
      ]
    },
    {
      "cell_type": "code",
      "source": [
        "print(cc.sql(\"SELECT NOW() FROM DUMMY\").collect().CURRENT_TIMESTAMP[0])"
      ],
      "metadata": {
        "colab": {
          "base_uri": "https://localhost:8080/"
        },
        "id": "P2d17l0Zt_A-",
        "outputId": "4a70966a-a10c-4402-9530-3800521b0fc0"
      },
      "execution_count": 21,
      "outputs": [
        {
          "output_type": "stream",
          "name": "stdout",
          "text": [
            "2023-03-16 09:20:09.621000\n"
          ]
        }
      ]
    }
  ]
}