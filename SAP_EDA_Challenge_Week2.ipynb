{
  "nbformat": 4,
  "nbformat_minor": 0,
  "metadata": {
    "colab": {
      "provenance": [],
      "authorship_tag": "ABX9TyN0mU4/soutm3aSJH1fkiOX",
      "include_colab_link": true
    },
    "kernelspec": {
      "name": "python3",
      "display_name": "Python 3"
    },
    "language_info": {
      "name": "python"
    }
  },
  "cells": [
    {
      "cell_type": "markdown",
      "metadata": {
        "id": "view-in-github",
        "colab_type": "text"
      },
      "source": [
        "<a href=\"https://colab.research.google.com/github/VENKATAISAP/sap-community-developer-challenge-eda-hana/blob/main/SAP_EDA_Challenge_Week2.ipynb\" target=\"_parent\"><img src=\"https://colab.research.google.com/assets/colab-badge.svg\" alt=\"Open In Colab\"/></a>"
      ]
    },
    {
      "cell_type": "code",
      "execution_count": 2,
      "metadata": {
        "colab": {
          "base_uri": "https://localhost:8080/"
        },
        "id": "2Z_A67QhCqSN",
        "outputId": "8ea3612a-d628-40af-c829-0f1d56a56d4a"
      },
      "outputs": [
        {
          "output_type": "stream",
          "name": "stdout",
          "text": [
            "Python 3.9.16\n"
          ]
        }
      ],
      "source": [
        "!python -V"
      ]
    },
    {
      "cell_type": "code",
      "source": [
        "!pip install hana-ml"
      ],
      "metadata": {
        "id": "-FFXs2xDDiyr"
      },
      "execution_count": null,
      "outputs": []
    },
    {
      "cell_type": "code",
      "source": [
        "import hana_ml\n",
        "print(\"The package version: \", hana_ml.__version__)"
      ],
      "metadata": {
        "colab": {
          "base_uri": "https://localhost:8080/"
        },
        "id": "O18m9ENnDJq4",
        "outputId": "2a7950f7-0ab2-49c9-8a1e-b60fcade6dae"
      },
      "execution_count": 4,
      "outputs": [
        {
          "output_type": "stream",
          "name": "stdout",
          "text": [
            "The package version:  2.16.23031601\n"
          ]
        }
      ]
    },
    {
      "cell_type": "code",
      "source": [
        "import pandas as pd"
      ],
      "metadata": {
        "id": "Mjg5YuZFULg7"
      },
      "execution_count": 5,
      "outputs": []
    },
    {
      "cell_type": "code",
      "source": [
        "from hana_ml import dataframe as hdf"
      ],
      "metadata": {
        "id": "AaHnnvEqDv9I"
      },
      "execution_count": 6,
      "outputs": []
    },
    {
      "cell_type": "code",
      "source": [
        "from hana_ml.dataframe import ConnectionContext"
      ],
      "metadata": {
        "id": "AfdxG8exsbOW"
      },
      "execution_count": 7,
      "outputs": []
    },
    {
      "cell_type": "code",
      "source": [
        "cc = ConnectionContext('e8c8bf75-fd07-426a-9c7a-7e0d4c6d8562.hana.trial-us10.hanacloud.ondemand.com',443,'','')\n",
        "print(cc.hana_version())\n"
      ],
      "metadata": {
        "colab": {
          "base_uri": "https://localhost:8080/"
        },
        "id": "zQTzaWansMYW",
        "outputId": "aba6e9f7-7e5d-4e29-a831-4dd719475f0d"
      },
      "execution_count": 8,
      "outputs": [
        {
          "output_type": "stream",
          "name": "stdout",
          "text": [
            "4.00.000.00.1678185420 (fa/CE2022.42)\n"
          ]
        }
      ]
    },
    {
      "cell_type": "code",
      "source": [
        "print(cc.sql(\"SELECT NOW() FROM DUMMY\").collect().CURRENT_TIMESTAMP[0])"
      ],
      "metadata": {
        "id": "P2d17l0Zt_A-",
        "colab": {
          "base_uri": "https://localhost:8080/"
        },
        "outputId": "384d1ee3-95fc-44a0-d383-a78b97e20e7e"
      },
      "execution_count": 9,
      "outputs": [
        {
          "output_type": "stream",
          "name": "stdout",
          "text": [
            "2023-03-21 05:32:58.465000\n"
          ]
        }
      ]
    },
    {
      "cell_type": "markdown",
      "source": [
        "Open the cursor"
      ],
      "metadata": {
        "id": "VNNk19CaNyBk"
      }
    },
    {
      "cell_type": "code",
      "source": [
        "mycursor = cc.connection.cursor()"
      ],
      "metadata": {
        "id": "ljkP8tQON07D"
      },
      "execution_count": 10,
      "outputs": []
    },
    {
      "cell_type": "markdown",
      "source": [
        "Execute an SQL statement to create a table SEASONS in the database."
      ],
      "metadata": {
        "id": "Y1RMKXMeOC_2"
      }
    },
    {
      "cell_type": "code",
      "source": [
        "mycursor.execute('DROP TABLE \"SEASONS\"');"
      ],
      "metadata": {
        "id": "OnxJYsT8qa95"
      },
      "execution_count": 13,
      "outputs": []
    },
    {
      "cell_type": "code",
      "source": [
        "mycursor.execute (''' CREATE TABLE \"SEASONS\" ( \"ID\" INT PRIMARY KEY,   \"DESC\" VARCHAR(12) ) ''');"
      ],
      "metadata": {
        "id": "4m-OsDl0OE6U"
      },
      "execution_count": 14,
      "outputs": []
    },
    {
      "cell_type": "code",
      "source": [
        "mycursor.execute('TRUNCATE TABLE \"SEASONS\"');\n",
        "\n",
        "records_inserted=mycursor.executemany(operation='INSERT INTO \"SEASONS\" (\"ID\", \"DESC\") VALUES (?, ?)',\n",
        "                                     list_of_parameters=\n",
        "                                      ((1, \"WINTER\"),\n",
        "                                      (2, \"SPRING\"),\n",
        "                                      (3, \"SUMMER\"),\n",
        "                                      (4, \"FALL\"))\n",
        "                                     )\n",
        "print(\"Records inserted: \", sum(records_inserted))"
      ],
      "metadata": {
        "colab": {
          "base_uri": "https://localhost:8080/"
        },
        "id": "_Bj6yRdWPBam",
        "outputId": "e64e3061-a215-47d8-dc7f-4fd9b5f1cc53"
      },
      "execution_count": 15,
      "outputs": [
        {
          "output_type": "stream",
          "name": "stdout",
          "text": [
            "Records inserted:  4\n"
          ]
        }
      ]
    },
    {
      "cell_type": "code",
      "source": [
        "mycursor.execute('SELECT * FROM \"SEASONS\"')\n",
        "#Get the first record\n",
        "result=mycursor.fetchone()\n",
        "print(\"the first record\", result)\n",
        "\n",
        "#Get the second record\n",
        "#result=mycursor.fetchtwo()\n",
        "#print(\"the second record\", result)\n",
        "\n",
        "#Get the rest of records\n",
        "result=mycursor.fetchall()\n",
        "print(\"the rest of records\", result)"
      ],
      "metadata": {
        "colab": {
          "base_uri": "https://localhost:8080/"
        },
        "id": "p1d4wLIePPZL",
        "outputId": "0027a14a-f243-4a94-8b21-4d081de586a4"
      },
      "execution_count": 16,
      "outputs": [
        {
          "output_type": "stream",
          "name": "stdout",
          "text": [
            "the first record (1, 'WINTER')\n",
            "the rest of records [(2, 'SPRING'), (3, 'SUMMER'), (4, 'FALL')]\n"
          ]
        }
      ]
    },
    {
      "cell_type": "markdown",
      "source": [
        "Check tables created so far in the current database schema"
      ],
      "metadata": {
        "id": "FeOoLlU5RB5n"
      }
    },
    {
      "cell_type": "code",
      "source": [
        "print(f\"Current database schema: {cc.get_current_schema()}\")"
      ],
      "metadata": {
        "colab": {
          "base_uri": "https://localhost:8080/"
        },
        "id": "89KGMCRnRGpp",
        "outputId": "251d91c1-8fc0-4a4a-fa06-4f03427a5daf"
      },
      "execution_count": 17,
      "outputs": [
        {
          "output_type": "stream",
          "name": "stdout",
          "text": [
            "Current database schema: DBADMIN\n"
          ]
        }
      ]
    },
    {
      "cell_type": "code",
      "source": [
        "mycursor.execute(f''' SELECT TABLE_NAME FROM M_TABLES WHERE SCHEMA_NAME='{cc.get_current_schema()}'\n",
        "''')"
      ],
      "metadata": {
        "colab": {
          "base_uri": "https://localhost:8080/"
        },
        "id": "PA2AMvl_RQo1",
        "outputId": "96f9e86b-3f2b-4136-ef26-81b8d61f22ce"
      },
      "execution_count": 18,
      "outputs": [
        {
          "output_type": "execute_result",
          "data": {
            "text/plain": [
              "True"
            ]
          },
          "metadata": {},
          "execution_count": 18
        }
      ]
    },
    {
      "cell_type": "code",
      "source": [
        "result=mycursor.fetchall()\n",
        "print(f\"{len(result)} table(s) in the schema {cc.get_current_schema()}: {[x[0] for x in result]}\")"
      ],
      "metadata": {
        "colab": {
          "base_uri": "https://localhost:8080/"
        },
        "id": "YfA9s5fORcnJ",
        "outputId": "6ba9cc04-02db-42b0-fd93-fefae2cfe0cd"
      },
      "execution_count": 19,
      "outputs": [
        {
          "output_type": "stream",
          "name": "stdout",
          "text": [
            "2 table(s) in the schema DBADMIN: ['SEASONS', 'MONTHS']\n"
          ]
        }
      ]
    },
    {
      "cell_type": "markdown",
      "source": [
        "Pandas DataFrames and HANA DataFrames InterOperability"
      ],
      "metadata": {
        "id": "5n6TTTUDSQvr"
      }
    },
    {
      "cell_type": "code",
      "source": [
        "cc.create_table(\"MONTHS\", table_structure={\"ID\":\"INT\", \"DESC\":\"VARCHAR(10)\"})"
      ],
      "metadata": {
        "id": "fvdhbpC9STag"
      },
      "execution_count": null,
      "outputs": []
    },
    {
      "cell_type": "code",
      "source": [
        "cc.get_tables()"
      ],
      "metadata": {
        "colab": {
          "base_uri": "https://localhost:8080/",
          "height": 112
        },
        "id": "8iRl3GMTSyTT",
        "outputId": "1b21737d-6104-47d0-cbac-3de3136b3922"
      },
      "execution_count": 20,
      "outputs": [
        {
          "output_type": "execute_result",
          "data": {
            "text/plain": [
              "  TABLE_NAME\n",
              "0    SEASONS\n",
              "1     MONTHS"
            ],
            "text/html": [
              "\n",
              "  <div id=\"df-09045ffb-9f4d-4c0f-9593-213362ae2c29\">\n",
              "    <div class=\"colab-df-container\">\n",
              "      <div>\n",
              "<style scoped>\n",
              "    .dataframe tbody tr th:only-of-type {\n",
              "        vertical-align: middle;\n",
              "    }\n",
              "\n",
              "    .dataframe tbody tr th {\n",
              "        vertical-align: top;\n",
              "    }\n",
              "\n",
              "    .dataframe thead th {\n",
              "        text-align: right;\n",
              "    }\n",
              "</style>\n",
              "<table border=\"1\" class=\"dataframe\">\n",
              "  <thead>\n",
              "    <tr style=\"text-align: right;\">\n",
              "      <th></th>\n",
              "      <th>TABLE_NAME</th>\n",
              "    </tr>\n",
              "  </thead>\n",
              "  <tbody>\n",
              "    <tr>\n",
              "      <th>0</th>\n",
              "      <td>SEASONS</td>\n",
              "    </tr>\n",
              "    <tr>\n",
              "      <th>1</th>\n",
              "      <td>MONTHS</td>\n",
              "    </tr>\n",
              "  </tbody>\n",
              "</table>\n",
              "</div>\n",
              "      <button class=\"colab-df-convert\" onclick=\"convertToInteractive('df-09045ffb-9f4d-4c0f-9593-213362ae2c29')\"\n",
              "              title=\"Convert this dataframe to an interactive table.\"\n",
              "              style=\"display:none;\">\n",
              "        \n",
              "  <svg xmlns=\"http://www.w3.org/2000/svg\" height=\"24px\"viewBox=\"0 0 24 24\"\n",
              "       width=\"24px\">\n",
              "    <path d=\"M0 0h24v24H0V0z\" fill=\"none\"/>\n",
              "    <path d=\"M18.56 5.44l.94 2.06.94-2.06 2.06-.94-2.06-.94-.94-2.06-.94 2.06-2.06.94zm-11 1L8.5 8.5l.94-2.06 2.06-.94-2.06-.94L8.5 2.5l-.94 2.06-2.06.94zm10 10l.94 2.06.94-2.06 2.06-.94-2.06-.94-.94-2.06-.94 2.06-2.06.94z\"/><path d=\"M17.41 7.96l-1.37-1.37c-.4-.4-.92-.59-1.43-.59-.52 0-1.04.2-1.43.59L10.3 9.45l-7.72 7.72c-.78.78-.78 2.05 0 2.83L4 21.41c.39.39.9.59 1.41.59.51 0 1.02-.2 1.41-.59l7.78-7.78 2.81-2.81c.8-.78.8-2.07 0-2.86zM5.41 20L4 18.59l7.72-7.72 1.47 1.35L5.41 20z\"/>\n",
              "  </svg>\n",
              "      </button>\n",
              "      \n",
              "  <style>\n",
              "    .colab-df-container {\n",
              "      display:flex;\n",
              "      flex-wrap:wrap;\n",
              "      gap: 12px;\n",
              "    }\n",
              "\n",
              "    .colab-df-convert {\n",
              "      background-color: #E8F0FE;\n",
              "      border: none;\n",
              "      border-radius: 50%;\n",
              "      cursor: pointer;\n",
              "      display: none;\n",
              "      fill: #1967D2;\n",
              "      height: 32px;\n",
              "      padding: 0 0 0 0;\n",
              "      width: 32px;\n",
              "    }\n",
              "\n",
              "    .colab-df-convert:hover {\n",
              "      background-color: #E2EBFA;\n",
              "      box-shadow: 0px 1px 2px rgba(60, 64, 67, 0.3), 0px 1px 3px 1px rgba(60, 64, 67, 0.15);\n",
              "      fill: #174EA6;\n",
              "    }\n",
              "\n",
              "    [theme=dark] .colab-df-convert {\n",
              "      background-color: #3B4455;\n",
              "      fill: #D2E3FC;\n",
              "    }\n",
              "\n",
              "    [theme=dark] .colab-df-convert:hover {\n",
              "      background-color: #434B5C;\n",
              "      box-shadow: 0px 1px 3px 1px rgba(0, 0, 0, 0.15);\n",
              "      filter: drop-shadow(0px 1px 2px rgba(0, 0, 0, 0.3));\n",
              "      fill: #FFFFFF;\n",
              "    }\n",
              "  </style>\n",
              "\n",
              "      <script>\n",
              "        const buttonEl =\n",
              "          document.querySelector('#df-09045ffb-9f4d-4c0f-9593-213362ae2c29 button.colab-df-convert');\n",
              "        buttonEl.style.display =\n",
              "          google.colab.kernel.accessAllowed ? 'block' : 'none';\n",
              "\n",
              "        async function convertToInteractive(key) {\n",
              "          const element = document.querySelector('#df-09045ffb-9f4d-4c0f-9593-213362ae2c29');\n",
              "          const dataTable =\n",
              "            await google.colab.kernel.invokeFunction('convertToInteractive',\n",
              "                                                     [key], {});\n",
              "          if (!dataTable) return;\n",
              "\n",
              "          const docLinkHtml = 'Like what you see? Visit the ' +\n",
              "            '<a target=\"_blank\" href=https://colab.research.google.com/notebooks/data_table.ipynb>data table notebook</a>'\n",
              "            + ' to learn more about interactive tables.';\n",
              "          element.innerHTML = '';\n",
              "          dataTable['output_type'] = 'display_data';\n",
              "          await google.colab.output.renderOutput(dataTable, element);\n",
              "          const docLink = document.createElement('div');\n",
              "          docLink.innerHTML = docLinkHtml;\n",
              "          element.appendChild(docLink);\n",
              "        }\n",
              "      </script>\n",
              "    </div>\n",
              "  </div>\n",
              "  "
            ]
          },
          "metadata": {},
          "execution_count": 20
        }
      ]
    },
    {
      "cell_type": "markdown",
      "source": [
        "Create Pandas DataFrame with data describing calendar months."
      ],
      "metadata": {
        "id": "ByOnnE5CUAHy"
      }
    },
    {
      "cell_type": "code",
      "source": [
        "months_df=pd.DataFrame( {\"ID\": range(1,13), \"DESC\": ['JAN', 'FEB', 'MAR', 'APR', 'MAY', 'JUN', 'JUL', 'AUG', 'SEP', 'OCT', 'NOV', 'DEC'] })"
      ],
      "metadata": {
        "id": "uE17E2a0UBKN"
      },
      "execution_count": 21,
      "outputs": []
    },
    {
      "cell_type": "code",
      "source": [
        "display(months_df)"
      ],
      "metadata": {
        "colab": {
          "base_uri": "https://localhost:8080/",
          "height": 425
        },
        "id": "ffJFhWlYVJ5R",
        "outputId": "f72db91b-f790-4a00-d146-f541f617ea30"
      },
      "execution_count": 22,
      "outputs": [
        {
          "output_type": "display_data",
          "data": {
            "text/plain": [
              "    ID DESC\n",
              "0    1  JAN\n",
              "1    2  FEB\n",
              "2    3  MAR\n",
              "3    4  APR\n",
              "4    5  MAY\n",
              "5    6  JUN\n",
              "6    7  JUL\n",
              "7    8  AUG\n",
              "8    9  SEP\n",
              "9   10  OCT\n",
              "10  11  NOV\n",
              "11  12  DEC"
            ],
            "text/html": [
              "\n",
              "  <div id=\"df-06d69c46-0e09-459e-aaf5-e036adb1b6c6\">\n",
              "    <div class=\"colab-df-container\">\n",
              "      <div>\n",
              "<style scoped>\n",
              "    .dataframe tbody tr th:only-of-type {\n",
              "        vertical-align: middle;\n",
              "    }\n",
              "\n",
              "    .dataframe tbody tr th {\n",
              "        vertical-align: top;\n",
              "    }\n",
              "\n",
              "    .dataframe thead th {\n",
              "        text-align: right;\n",
              "    }\n",
              "</style>\n",
              "<table border=\"1\" class=\"dataframe\">\n",
              "  <thead>\n",
              "    <tr style=\"text-align: right;\">\n",
              "      <th></th>\n",
              "      <th>ID</th>\n",
              "      <th>DESC</th>\n",
              "    </tr>\n",
              "  </thead>\n",
              "  <tbody>\n",
              "    <tr>\n",
              "      <th>0</th>\n",
              "      <td>1</td>\n",
              "      <td>JAN</td>\n",
              "    </tr>\n",
              "    <tr>\n",
              "      <th>1</th>\n",
              "      <td>2</td>\n",
              "      <td>FEB</td>\n",
              "    </tr>\n",
              "    <tr>\n",
              "      <th>2</th>\n",
              "      <td>3</td>\n",
              "      <td>MAR</td>\n",
              "    </tr>\n",
              "    <tr>\n",
              "      <th>3</th>\n",
              "      <td>4</td>\n",
              "      <td>APR</td>\n",
              "    </tr>\n",
              "    <tr>\n",
              "      <th>4</th>\n",
              "      <td>5</td>\n",
              "      <td>MAY</td>\n",
              "    </tr>\n",
              "    <tr>\n",
              "      <th>5</th>\n",
              "      <td>6</td>\n",
              "      <td>JUN</td>\n",
              "    </tr>\n",
              "    <tr>\n",
              "      <th>6</th>\n",
              "      <td>7</td>\n",
              "      <td>JUL</td>\n",
              "    </tr>\n",
              "    <tr>\n",
              "      <th>7</th>\n",
              "      <td>8</td>\n",
              "      <td>AUG</td>\n",
              "    </tr>\n",
              "    <tr>\n",
              "      <th>8</th>\n",
              "      <td>9</td>\n",
              "      <td>SEP</td>\n",
              "    </tr>\n",
              "    <tr>\n",
              "      <th>9</th>\n",
              "      <td>10</td>\n",
              "      <td>OCT</td>\n",
              "    </tr>\n",
              "    <tr>\n",
              "      <th>10</th>\n",
              "      <td>11</td>\n",
              "      <td>NOV</td>\n",
              "    </tr>\n",
              "    <tr>\n",
              "      <th>11</th>\n",
              "      <td>12</td>\n",
              "      <td>DEC</td>\n",
              "    </tr>\n",
              "  </tbody>\n",
              "</table>\n",
              "</div>\n",
              "      <button class=\"colab-df-convert\" onclick=\"convertToInteractive('df-06d69c46-0e09-459e-aaf5-e036adb1b6c6')\"\n",
              "              title=\"Convert this dataframe to an interactive table.\"\n",
              "              style=\"display:none;\">\n",
              "        \n",
              "  <svg xmlns=\"http://www.w3.org/2000/svg\" height=\"24px\"viewBox=\"0 0 24 24\"\n",
              "       width=\"24px\">\n",
              "    <path d=\"M0 0h24v24H0V0z\" fill=\"none\"/>\n",
              "    <path d=\"M18.56 5.44l.94 2.06.94-2.06 2.06-.94-2.06-.94-.94-2.06-.94 2.06-2.06.94zm-11 1L8.5 8.5l.94-2.06 2.06-.94-2.06-.94L8.5 2.5l-.94 2.06-2.06.94zm10 10l.94 2.06.94-2.06 2.06-.94-2.06-.94-.94-2.06-.94 2.06-2.06.94z\"/><path d=\"M17.41 7.96l-1.37-1.37c-.4-.4-.92-.59-1.43-.59-.52 0-1.04.2-1.43.59L10.3 9.45l-7.72 7.72c-.78.78-.78 2.05 0 2.83L4 21.41c.39.39.9.59 1.41.59.51 0 1.02-.2 1.41-.59l7.78-7.78 2.81-2.81c.8-.78.8-2.07 0-2.86zM5.41 20L4 18.59l7.72-7.72 1.47 1.35L5.41 20z\"/>\n",
              "  </svg>\n",
              "      </button>\n",
              "      \n",
              "  <style>\n",
              "    .colab-df-container {\n",
              "      display:flex;\n",
              "      flex-wrap:wrap;\n",
              "      gap: 12px;\n",
              "    }\n",
              "\n",
              "    .colab-df-convert {\n",
              "      background-color: #E8F0FE;\n",
              "      border: none;\n",
              "      border-radius: 50%;\n",
              "      cursor: pointer;\n",
              "      display: none;\n",
              "      fill: #1967D2;\n",
              "      height: 32px;\n",
              "      padding: 0 0 0 0;\n",
              "      width: 32px;\n",
              "    }\n",
              "\n",
              "    .colab-df-convert:hover {\n",
              "      background-color: #E2EBFA;\n",
              "      box-shadow: 0px 1px 2px rgba(60, 64, 67, 0.3), 0px 1px 3px 1px rgba(60, 64, 67, 0.15);\n",
              "      fill: #174EA6;\n",
              "    }\n",
              "\n",
              "    [theme=dark] .colab-df-convert {\n",
              "      background-color: #3B4455;\n",
              "      fill: #D2E3FC;\n",
              "    }\n",
              "\n",
              "    [theme=dark] .colab-df-convert:hover {\n",
              "      background-color: #434B5C;\n",
              "      box-shadow: 0px 1px 3px 1px rgba(0, 0, 0, 0.15);\n",
              "      filter: drop-shadow(0px 1px 2px rgba(0, 0, 0, 0.3));\n",
              "      fill: #FFFFFF;\n",
              "    }\n",
              "  </style>\n",
              "\n",
              "      <script>\n",
              "        const buttonEl =\n",
              "          document.querySelector('#df-06d69c46-0e09-459e-aaf5-e036adb1b6c6 button.colab-df-convert');\n",
              "        buttonEl.style.display =\n",
              "          google.colab.kernel.accessAllowed ? 'block' : 'none';\n",
              "\n",
              "        async function convertToInteractive(key) {\n",
              "          const element = document.querySelector('#df-06d69c46-0e09-459e-aaf5-e036adb1b6c6');\n",
              "          const dataTable =\n",
              "            await google.colab.kernel.invokeFunction('convertToInteractive',\n",
              "                                                     [key], {});\n",
              "          if (!dataTable) return;\n",
              "\n",
              "          const docLinkHtml = 'Like what you see? Visit the ' +\n",
              "            '<a target=\"_blank\" href=https://colab.research.google.com/notebooks/data_table.ipynb>data table notebook</a>'\n",
              "            + ' to learn more about interactive tables.';\n",
              "          element.innerHTML = '';\n",
              "          dataTable['output_type'] = 'display_data';\n",
              "          await google.colab.output.renderOutput(dataTable, element);\n",
              "          const docLink = document.createElement('div');\n",
              "          docLink.innerHTML = docLinkHtml;\n",
              "          element.appendChild(docLink);\n",
              "        }\n",
              "      </script>\n",
              "    </div>\n",
              "  </div>\n",
              "  "
            ]
          },
          "metadata": {}
        }
      ]
    },
    {
      "cell_type": "code",
      "source": [
        "display(months_df.style.hide(axis='index'))\n",
        "# the additional index column is removed/hidden"
      ],
      "metadata": {
        "colab": {
          "base_uri": "https://localhost:8080/",
          "height": 425
        },
        "id": "MpSkHhQ9VSzG",
        "outputId": "b5ae1e9b-d9ea-4991-8814-cec85c83c7c1"
      },
      "execution_count": 23,
      "outputs": [
        {
          "output_type": "display_data",
          "data": {
            "text/plain": [
              "<pandas.io.formats.style.Styler at 0x7f3907eb5e80>"
            ],
            "text/html": [
              "<style type=\"text/css\">\n",
              "</style>\n",
              "<table id=\"T_dff2f\" class=\"dataframe\">\n",
              "  <thead>\n",
              "    <tr>\n",
              "      <th id=\"T_dff2f_level0_col0\" class=\"col_heading level0 col0\" >ID</th>\n",
              "      <th id=\"T_dff2f_level0_col1\" class=\"col_heading level0 col1\" >DESC</th>\n",
              "    </tr>\n",
              "  </thead>\n",
              "  <tbody>\n",
              "    <tr>\n",
              "      <td id=\"T_dff2f_row0_col0\" class=\"data row0 col0\" >1</td>\n",
              "      <td id=\"T_dff2f_row0_col1\" class=\"data row0 col1\" >JAN</td>\n",
              "    </tr>\n",
              "    <tr>\n",
              "      <td id=\"T_dff2f_row1_col0\" class=\"data row1 col0\" >2</td>\n",
              "      <td id=\"T_dff2f_row1_col1\" class=\"data row1 col1\" >FEB</td>\n",
              "    </tr>\n",
              "    <tr>\n",
              "      <td id=\"T_dff2f_row2_col0\" class=\"data row2 col0\" >3</td>\n",
              "      <td id=\"T_dff2f_row2_col1\" class=\"data row2 col1\" >MAR</td>\n",
              "    </tr>\n",
              "    <tr>\n",
              "      <td id=\"T_dff2f_row3_col0\" class=\"data row3 col0\" >4</td>\n",
              "      <td id=\"T_dff2f_row3_col1\" class=\"data row3 col1\" >APR</td>\n",
              "    </tr>\n",
              "    <tr>\n",
              "      <td id=\"T_dff2f_row4_col0\" class=\"data row4 col0\" >5</td>\n",
              "      <td id=\"T_dff2f_row4_col1\" class=\"data row4 col1\" >MAY</td>\n",
              "    </tr>\n",
              "    <tr>\n",
              "      <td id=\"T_dff2f_row5_col0\" class=\"data row5 col0\" >6</td>\n",
              "      <td id=\"T_dff2f_row5_col1\" class=\"data row5 col1\" >JUN</td>\n",
              "    </tr>\n",
              "    <tr>\n",
              "      <td id=\"T_dff2f_row6_col0\" class=\"data row6 col0\" >7</td>\n",
              "      <td id=\"T_dff2f_row6_col1\" class=\"data row6 col1\" >JUL</td>\n",
              "    </tr>\n",
              "    <tr>\n",
              "      <td id=\"T_dff2f_row7_col0\" class=\"data row7 col0\" >8</td>\n",
              "      <td id=\"T_dff2f_row7_col1\" class=\"data row7 col1\" >AUG</td>\n",
              "    </tr>\n",
              "    <tr>\n",
              "      <td id=\"T_dff2f_row8_col0\" class=\"data row8 col0\" >9</td>\n",
              "      <td id=\"T_dff2f_row8_col1\" class=\"data row8 col1\" >SEP</td>\n",
              "    </tr>\n",
              "    <tr>\n",
              "      <td id=\"T_dff2f_row9_col0\" class=\"data row9 col0\" >10</td>\n",
              "      <td id=\"T_dff2f_row9_col1\" class=\"data row9 col1\" >OCT</td>\n",
              "    </tr>\n",
              "    <tr>\n",
              "      <td id=\"T_dff2f_row10_col0\" class=\"data row10 col0\" >11</td>\n",
              "      <td id=\"T_dff2f_row10_col1\" class=\"data row10 col1\" >NOV</td>\n",
              "    </tr>\n",
              "    <tr>\n",
              "      <td id=\"T_dff2f_row11_col0\" class=\"data row11 col0\" >12</td>\n",
              "      <td id=\"T_dff2f_row11_col1\" class=\"data row11 col1\" >DEC</td>\n",
              "    </tr>\n",
              "  </tbody>\n",
              "</table>\n"
            ]
          },
          "metadata": {}
        }
      ]
    },
    {
      "cell_type": "markdown",
      "source": [
        "Create HANA DataFrame from Pandas DataFrame"
      ],
      "metadata": {
        "id": "H8MDEo9jWD9J"
      }
    },
    {
      "cell_type": "code",
      "source": [
        "months_hdf = hdf.create_dataframe_from_pandas(connection_context=cc, pandas_df=months_df, table_name='MONTHS', primary_key='ID', force=True )\n",
        "                                     "
      ],
      "metadata": {
        "colab": {
          "base_uri": "https://localhost:8080/"
        },
        "id": "FfFUYThPWIjt",
        "outputId": "783c5098-bb5f-447f-d9e1-c168662c2091"
      },
      "execution_count": 24,
      "outputs": [
        {
          "output_type": "stream",
          "name": "stderr",
          "text": [
            "100%|██████████| 1/1 [00:00<00:00, 14.46it/s]\n"
          ]
        }
      ]
    },
    {
      "cell_type": "code",
      "source": [
        "type(months_hdf)"
      ],
      "metadata": {
        "colab": {
          "base_uri": "https://localhost:8080/"
        },
        "id": "MbqRSD90W5lC",
        "outputId": "0e2b633d-ba9f-4434-e958-60dc4b839506"
      },
      "execution_count": 25,
      "outputs": [
        {
          "output_type": "execute_result",
          "data": {
            "text/plain": [
              "hana_ml.dataframe.DataFrame"
            ]
          },
          "metadata": {},
          "execution_count": 25
        }
      ]
    },
    {
      "cell_type": "code",
      "source": [
        "type(months_df)"
      ],
      "metadata": {
        "colab": {
          "base_uri": "https://localhost:8080/"
        },
        "id": "7dJjq7LwxWpw",
        "outputId": "83c50682-f44e-4805-f66f-7c90cac85a27"
      },
      "execution_count": 30,
      "outputs": [
        {
          "output_type": "execute_result",
          "data": {
            "text/plain": [
              "pandas.core.frame.DataFrame"
            ]
          },
          "metadata": {},
          "execution_count": 30
        }
      ]
    },
    {
      "cell_type": "code",
      "source": [
        "print(months_hdf.select_statement)"
      ],
      "metadata": {
        "colab": {
          "base_uri": "https://localhost:8080/"
        },
        "id": "jKc_Zrc7W-Hw",
        "outputId": "43dcb76b-2555-4b3d-f06d-e19bba3b39dc"
      },
      "execution_count": 26,
      "outputs": [
        {
          "output_type": "stream",
          "name": "stdout",
          "text": [
            "SELECT * FROM \"MONTHS\"\n"
          ]
        }
      ]
    },
    {
      "cell_type": "code",
      "source": [
        "mycursor.execute(months_hdf.select_statement)\n",
        "\n",
        "#Get all records\n",
        "result=mycursor.fetchall()\n",
        "\n",
        "#Display returned records\n",
        "print(f\"All {len(result)} records: {result}\")"
      ],
      "metadata": {
        "colab": {
          "base_uri": "https://localhost:8080/"
        },
        "id": "sx0i0VE5XD_G",
        "outputId": "b418723f-2de8-4efa-b428-9b0539e6ef3d"
      },
      "execution_count": 27,
      "outputs": [
        {
          "output_type": "stream",
          "name": "stdout",
          "text": [
            "All 12 records: [(1, 'JAN'), (2, 'FEB'), (3, 'MAR'), (4, 'APR'), (5, 'MAY'), (6, 'JUN'), (7, 'JUL'), (8, 'AUG'), (9, 'SEP'), (10, 'OCT'), (11, 'NOV'), (12, 'DEC')]\n"
          ]
        }
      ]
    },
    {
      "cell_type": "code",
      "source": [
        "months_hdf.collect()"
      ],
      "metadata": {
        "colab": {
          "base_uri": "https://localhost:8080/",
          "height": 425
        },
        "id": "-siytBChXRPe",
        "outputId": "c3456d6f-5933-4f0d-c2e7-953077c14663"
      },
      "execution_count": 28,
      "outputs": [
        {
          "output_type": "execute_result",
          "data": {
            "text/plain": [
              "    ID DESC\n",
              "0    1  JAN\n",
              "1    2  FEB\n",
              "2    3  MAR\n",
              "3    4  APR\n",
              "4    5  MAY\n",
              "5    6  JUN\n",
              "6    7  JUL\n",
              "7    8  AUG\n",
              "8    9  SEP\n",
              "9   10  OCT\n",
              "10  11  NOV\n",
              "11  12  DEC"
            ],
            "text/html": [
              "\n",
              "  <div id=\"df-323e5fe3-f880-4c61-a790-f4f9763383bf\">\n",
              "    <div class=\"colab-df-container\">\n",
              "      <div>\n",
              "<style scoped>\n",
              "    .dataframe tbody tr th:only-of-type {\n",
              "        vertical-align: middle;\n",
              "    }\n",
              "\n",
              "    .dataframe tbody tr th {\n",
              "        vertical-align: top;\n",
              "    }\n",
              "\n",
              "    .dataframe thead th {\n",
              "        text-align: right;\n",
              "    }\n",
              "</style>\n",
              "<table border=\"1\" class=\"dataframe\">\n",
              "  <thead>\n",
              "    <tr style=\"text-align: right;\">\n",
              "      <th></th>\n",
              "      <th>ID</th>\n",
              "      <th>DESC</th>\n",
              "    </tr>\n",
              "  </thead>\n",
              "  <tbody>\n",
              "    <tr>\n",
              "      <th>0</th>\n",
              "      <td>1</td>\n",
              "      <td>JAN</td>\n",
              "    </tr>\n",
              "    <tr>\n",
              "      <th>1</th>\n",
              "      <td>2</td>\n",
              "      <td>FEB</td>\n",
              "    </tr>\n",
              "    <tr>\n",
              "      <th>2</th>\n",
              "      <td>3</td>\n",
              "      <td>MAR</td>\n",
              "    </tr>\n",
              "    <tr>\n",
              "      <th>3</th>\n",
              "      <td>4</td>\n",
              "      <td>APR</td>\n",
              "    </tr>\n",
              "    <tr>\n",
              "      <th>4</th>\n",
              "      <td>5</td>\n",
              "      <td>MAY</td>\n",
              "    </tr>\n",
              "    <tr>\n",
              "      <th>5</th>\n",
              "      <td>6</td>\n",
              "      <td>JUN</td>\n",
              "    </tr>\n",
              "    <tr>\n",
              "      <th>6</th>\n",
              "      <td>7</td>\n",
              "      <td>JUL</td>\n",
              "    </tr>\n",
              "    <tr>\n",
              "      <th>7</th>\n",
              "      <td>8</td>\n",
              "      <td>AUG</td>\n",
              "    </tr>\n",
              "    <tr>\n",
              "      <th>8</th>\n",
              "      <td>9</td>\n",
              "      <td>SEP</td>\n",
              "    </tr>\n",
              "    <tr>\n",
              "      <th>9</th>\n",
              "      <td>10</td>\n",
              "      <td>OCT</td>\n",
              "    </tr>\n",
              "    <tr>\n",
              "      <th>10</th>\n",
              "      <td>11</td>\n",
              "      <td>NOV</td>\n",
              "    </tr>\n",
              "    <tr>\n",
              "      <th>11</th>\n",
              "      <td>12</td>\n",
              "      <td>DEC</td>\n",
              "    </tr>\n",
              "  </tbody>\n",
              "</table>\n",
              "</div>\n",
              "      <button class=\"colab-df-convert\" onclick=\"convertToInteractive('df-323e5fe3-f880-4c61-a790-f4f9763383bf')\"\n",
              "              title=\"Convert this dataframe to an interactive table.\"\n",
              "              style=\"display:none;\">\n",
              "        \n",
              "  <svg xmlns=\"http://www.w3.org/2000/svg\" height=\"24px\"viewBox=\"0 0 24 24\"\n",
              "       width=\"24px\">\n",
              "    <path d=\"M0 0h24v24H0V0z\" fill=\"none\"/>\n",
              "    <path d=\"M18.56 5.44l.94 2.06.94-2.06 2.06-.94-2.06-.94-.94-2.06-.94 2.06-2.06.94zm-11 1L8.5 8.5l.94-2.06 2.06-.94-2.06-.94L8.5 2.5l-.94 2.06-2.06.94zm10 10l.94 2.06.94-2.06 2.06-.94-2.06-.94-.94-2.06-.94 2.06-2.06.94z\"/><path d=\"M17.41 7.96l-1.37-1.37c-.4-.4-.92-.59-1.43-.59-.52 0-1.04.2-1.43.59L10.3 9.45l-7.72 7.72c-.78.78-.78 2.05 0 2.83L4 21.41c.39.39.9.59 1.41.59.51 0 1.02-.2 1.41-.59l7.78-7.78 2.81-2.81c.8-.78.8-2.07 0-2.86zM5.41 20L4 18.59l7.72-7.72 1.47 1.35L5.41 20z\"/>\n",
              "  </svg>\n",
              "      </button>\n",
              "      \n",
              "  <style>\n",
              "    .colab-df-container {\n",
              "      display:flex;\n",
              "      flex-wrap:wrap;\n",
              "      gap: 12px;\n",
              "    }\n",
              "\n",
              "    .colab-df-convert {\n",
              "      background-color: #E8F0FE;\n",
              "      border: none;\n",
              "      border-radius: 50%;\n",
              "      cursor: pointer;\n",
              "      display: none;\n",
              "      fill: #1967D2;\n",
              "      height: 32px;\n",
              "      padding: 0 0 0 0;\n",
              "      width: 32px;\n",
              "    }\n",
              "\n",
              "    .colab-df-convert:hover {\n",
              "      background-color: #E2EBFA;\n",
              "      box-shadow: 0px 1px 2px rgba(60, 64, 67, 0.3), 0px 1px 3px 1px rgba(60, 64, 67, 0.15);\n",
              "      fill: #174EA6;\n",
              "    }\n",
              "\n",
              "    [theme=dark] .colab-df-convert {\n",
              "      background-color: #3B4455;\n",
              "      fill: #D2E3FC;\n",
              "    }\n",
              "\n",
              "    [theme=dark] .colab-df-convert:hover {\n",
              "      background-color: #434B5C;\n",
              "      box-shadow: 0px 1px 3px 1px rgba(0, 0, 0, 0.15);\n",
              "      filter: drop-shadow(0px 1px 2px rgba(0, 0, 0, 0.3));\n",
              "      fill: #FFFFFF;\n",
              "    }\n",
              "  </style>\n",
              "\n",
              "      <script>\n",
              "        const buttonEl =\n",
              "          document.querySelector('#df-323e5fe3-f880-4c61-a790-f4f9763383bf button.colab-df-convert');\n",
              "        buttonEl.style.display =\n",
              "          google.colab.kernel.accessAllowed ? 'block' : 'none';\n",
              "\n",
              "        async function convertToInteractive(key) {\n",
              "          const element = document.querySelector('#df-323e5fe3-f880-4c61-a790-f4f9763383bf');\n",
              "          const dataTable =\n",
              "            await google.colab.kernel.invokeFunction('convertToInteractive',\n",
              "                                                     [key], {});\n",
              "          if (!dataTable) return;\n",
              "\n",
              "          const docLinkHtml = 'Like what you see? Visit the ' +\n",
              "            '<a target=\"_blank\" href=https://colab.research.google.com/notebooks/data_table.ipynb>data table notebook</a>'\n",
              "            + ' to learn more about interactive tables.';\n",
              "          element.innerHTML = '';\n",
              "          dataTable['output_type'] = 'display_data';\n",
              "          await google.colab.output.renderOutput(dataTable, element);\n",
              "          const docLink = document.createElement('div');\n",
              "          docLink.innerHTML = docLinkHtml;\n",
              "          element.appendChild(docLink);\n",
              "        }\n",
              "      </script>\n",
              "    </div>\n",
              "  </div>\n",
              "  "
            ]
          },
          "metadata": {},
          "execution_count": 28
        }
      ]
    },
    {
      "cell_type": "code",
      "source": [
        "type(months_df)"
      ],
      "metadata": {
        "colab": {
          "base_uri": "https://localhost:8080/"
        },
        "id": "QyabCj46YRry",
        "outputId": "2776fe40-bfa0-46d1-d95a-d8615dafd352"
      },
      "execution_count": 29,
      "outputs": [
        {
          "output_type": "execute_result",
          "data": {
            "text/plain": [
              "pandas.core.frame.DataFrame"
            ]
          },
          "metadata": {},
          "execution_count": 29
        }
      ]
    },
    {
      "cell_type": "markdown",
      "source": [
        "Using hana-ml approach to load data from a CSV file"
      ],
      "metadata": {
        "id": "7C6nqssyYaVF"
      }
    },
    {
      "cell_type": "code",
      "source": [
        "url=\"https://raw.githubusercontent.com/SAP-samples/hana-ml-samples/main/Python-API/pal/datasets/bike.csv\"\n",
        "bikes_df = pd.io.parsers.read_csv(url)"
      ],
      "metadata": {
        "id": "5cTPGmt2yS4r"
      },
      "execution_count": 35,
      "outputs": []
    },
    {
      "cell_type": "code",
      "source": [
        "display(bikes_df)"
      ],
      "metadata": {
        "colab": {
          "base_uri": "https://localhost:8080/",
          "height": 423
        },
        "id": "rptwKTnLzjZo",
        "outputId": "d5dbf9b1-e58a-4a1b-c164-e62f96867981"
      },
      "execution_count": 36,
      "outputs": [
        {
          "output_type": "display_data",
          "data": {
            "text/plain": [
              "     season    yr mnth     holiday weekday      workingday weathersit  \\\n",
              "0    WINTER  2011  JAN  NO HOLIDAY     SAT  NO WORKING DAY      MISTY   \n",
              "1    WINTER  2011  JAN  NO HOLIDAY     SUN  NO WORKING DAY      MISTY   \n",
              "2    WINTER  2011  JAN  NO HOLIDAY     MON     WORKING DAY       GOOD   \n",
              "3    WINTER  2011  JAN  NO HOLIDAY     TUE     WORKING DAY       GOOD   \n",
              "4    WINTER  2011  JAN  NO HOLIDAY     WED     WORKING DAY       GOOD   \n",
              "..      ...   ...  ...         ...     ...             ...        ...   \n",
              "726  WINTER  2012  DEC  NO HOLIDAY     THU     WORKING DAY      MISTY   \n",
              "727  WINTER  2012  DEC  NO HOLIDAY     FRI     WORKING DAY      MISTY   \n",
              "728  WINTER  2012  DEC  NO HOLIDAY     SAT  NO WORKING DAY      MISTY   \n",
              "729  WINTER  2012  DEC  NO HOLIDAY     SUN  NO WORKING DAY       GOOD   \n",
              "730  WINTER  2012  DEC  NO HOLIDAY     MON     WORKING DAY      MISTY   \n",
              "\n",
              "         temp      hum  windspeed   cnt  days_since_2011  \n",
              "0    8.175849  80.5833  10.749882   985                0  \n",
              "1    9.083466  69.6087  16.652113   801                1  \n",
              "2    1.229108  43.7273  16.636703  1349                2  \n",
              "3    1.400000  59.0435  10.739832  1562                3  \n",
              "4    2.666979  43.6957  12.522300  1600                4  \n",
              "..        ...      ...        ...   ...              ...  \n",
              "726  3.945849  65.2917  23.458911  2114              726  \n",
              "727  3.906651  59.0000  10.416557  3095              727  \n",
              "728  3.906651  75.2917   8.333661  1341              728  \n",
              "729  4.024151  48.3333  23.500518  1796              729  \n",
              "730  2.144151  57.7500  10.374682  2729              730  \n",
              "\n",
              "[731 rows x 12 columns]"
            ],
            "text/html": [
              "\n",
              "  <div id=\"df-43b8fd07-5bbc-4ea6-8437-6cf734221438\">\n",
              "    <div class=\"colab-df-container\">\n",
              "      <div>\n",
              "<style scoped>\n",
              "    .dataframe tbody tr th:only-of-type {\n",
              "        vertical-align: middle;\n",
              "    }\n",
              "\n",
              "    .dataframe tbody tr th {\n",
              "        vertical-align: top;\n",
              "    }\n",
              "\n",
              "    .dataframe thead th {\n",
              "        text-align: right;\n",
              "    }\n",
              "</style>\n",
              "<table border=\"1\" class=\"dataframe\">\n",
              "  <thead>\n",
              "    <tr style=\"text-align: right;\">\n",
              "      <th></th>\n",
              "      <th>season</th>\n",
              "      <th>yr</th>\n",
              "      <th>mnth</th>\n",
              "      <th>holiday</th>\n",
              "      <th>weekday</th>\n",
              "      <th>workingday</th>\n",
              "      <th>weathersit</th>\n",
              "      <th>temp</th>\n",
              "      <th>hum</th>\n",
              "      <th>windspeed</th>\n",
              "      <th>cnt</th>\n",
              "      <th>days_since_2011</th>\n",
              "    </tr>\n",
              "  </thead>\n",
              "  <tbody>\n",
              "    <tr>\n",
              "      <th>0</th>\n",
              "      <td>WINTER</td>\n",
              "      <td>2011</td>\n",
              "      <td>JAN</td>\n",
              "      <td>NO HOLIDAY</td>\n",
              "      <td>SAT</td>\n",
              "      <td>NO WORKING DAY</td>\n",
              "      <td>MISTY</td>\n",
              "      <td>8.175849</td>\n",
              "      <td>80.5833</td>\n",
              "      <td>10.749882</td>\n",
              "      <td>985</td>\n",
              "      <td>0</td>\n",
              "    </tr>\n",
              "    <tr>\n",
              "      <th>1</th>\n",
              "      <td>WINTER</td>\n",
              "      <td>2011</td>\n",
              "      <td>JAN</td>\n",
              "      <td>NO HOLIDAY</td>\n",
              "      <td>SUN</td>\n",
              "      <td>NO WORKING DAY</td>\n",
              "      <td>MISTY</td>\n",
              "      <td>9.083466</td>\n",
              "      <td>69.6087</td>\n",
              "      <td>16.652113</td>\n",
              "      <td>801</td>\n",
              "      <td>1</td>\n",
              "    </tr>\n",
              "    <tr>\n",
              "      <th>2</th>\n",
              "      <td>WINTER</td>\n",
              "      <td>2011</td>\n",
              "      <td>JAN</td>\n",
              "      <td>NO HOLIDAY</td>\n",
              "      <td>MON</td>\n",
              "      <td>WORKING DAY</td>\n",
              "      <td>GOOD</td>\n",
              "      <td>1.229108</td>\n",
              "      <td>43.7273</td>\n",
              "      <td>16.636703</td>\n",
              "      <td>1349</td>\n",
              "      <td>2</td>\n",
              "    </tr>\n",
              "    <tr>\n",
              "      <th>3</th>\n",
              "      <td>WINTER</td>\n",
              "      <td>2011</td>\n",
              "      <td>JAN</td>\n",
              "      <td>NO HOLIDAY</td>\n",
              "      <td>TUE</td>\n",
              "      <td>WORKING DAY</td>\n",
              "      <td>GOOD</td>\n",
              "      <td>1.400000</td>\n",
              "      <td>59.0435</td>\n",
              "      <td>10.739832</td>\n",
              "      <td>1562</td>\n",
              "      <td>3</td>\n",
              "    </tr>\n",
              "    <tr>\n",
              "      <th>4</th>\n",
              "      <td>WINTER</td>\n",
              "      <td>2011</td>\n",
              "      <td>JAN</td>\n",
              "      <td>NO HOLIDAY</td>\n",
              "      <td>WED</td>\n",
              "      <td>WORKING DAY</td>\n",
              "      <td>GOOD</td>\n",
              "      <td>2.666979</td>\n",
              "      <td>43.6957</td>\n",
              "      <td>12.522300</td>\n",
              "      <td>1600</td>\n",
              "      <td>4</td>\n",
              "    </tr>\n",
              "    <tr>\n",
              "      <th>...</th>\n",
              "      <td>...</td>\n",
              "      <td>...</td>\n",
              "      <td>...</td>\n",
              "      <td>...</td>\n",
              "      <td>...</td>\n",
              "      <td>...</td>\n",
              "      <td>...</td>\n",
              "      <td>...</td>\n",
              "      <td>...</td>\n",
              "      <td>...</td>\n",
              "      <td>...</td>\n",
              "      <td>...</td>\n",
              "    </tr>\n",
              "    <tr>\n",
              "      <th>726</th>\n",
              "      <td>WINTER</td>\n",
              "      <td>2012</td>\n",
              "      <td>DEC</td>\n",
              "      <td>NO HOLIDAY</td>\n",
              "      <td>THU</td>\n",
              "      <td>WORKING DAY</td>\n",
              "      <td>MISTY</td>\n",
              "      <td>3.945849</td>\n",
              "      <td>65.2917</td>\n",
              "      <td>23.458911</td>\n",
              "      <td>2114</td>\n",
              "      <td>726</td>\n",
              "    </tr>\n",
              "    <tr>\n",
              "      <th>727</th>\n",
              "      <td>WINTER</td>\n",
              "      <td>2012</td>\n",
              "      <td>DEC</td>\n",
              "      <td>NO HOLIDAY</td>\n",
              "      <td>FRI</td>\n",
              "      <td>WORKING DAY</td>\n",
              "      <td>MISTY</td>\n",
              "      <td>3.906651</td>\n",
              "      <td>59.0000</td>\n",
              "      <td>10.416557</td>\n",
              "      <td>3095</td>\n",
              "      <td>727</td>\n",
              "    </tr>\n",
              "    <tr>\n",
              "      <th>728</th>\n",
              "      <td>WINTER</td>\n",
              "      <td>2012</td>\n",
              "      <td>DEC</td>\n",
              "      <td>NO HOLIDAY</td>\n",
              "      <td>SAT</td>\n",
              "      <td>NO WORKING DAY</td>\n",
              "      <td>MISTY</td>\n",
              "      <td>3.906651</td>\n",
              "      <td>75.2917</td>\n",
              "      <td>8.333661</td>\n",
              "      <td>1341</td>\n",
              "      <td>728</td>\n",
              "    </tr>\n",
              "    <tr>\n",
              "      <th>729</th>\n",
              "      <td>WINTER</td>\n",
              "      <td>2012</td>\n",
              "      <td>DEC</td>\n",
              "      <td>NO HOLIDAY</td>\n",
              "      <td>SUN</td>\n",
              "      <td>NO WORKING DAY</td>\n",
              "      <td>GOOD</td>\n",
              "      <td>4.024151</td>\n",
              "      <td>48.3333</td>\n",
              "      <td>23.500518</td>\n",
              "      <td>1796</td>\n",
              "      <td>729</td>\n",
              "    </tr>\n",
              "    <tr>\n",
              "      <th>730</th>\n",
              "      <td>WINTER</td>\n",
              "      <td>2012</td>\n",
              "      <td>DEC</td>\n",
              "      <td>NO HOLIDAY</td>\n",
              "      <td>MON</td>\n",
              "      <td>WORKING DAY</td>\n",
              "      <td>MISTY</td>\n",
              "      <td>2.144151</td>\n",
              "      <td>57.7500</td>\n",
              "      <td>10.374682</td>\n",
              "      <td>2729</td>\n",
              "      <td>730</td>\n",
              "    </tr>\n",
              "  </tbody>\n",
              "</table>\n",
              "<p>731 rows × 12 columns</p>\n",
              "</div>\n",
              "      <button class=\"colab-df-convert\" onclick=\"convertToInteractive('df-43b8fd07-5bbc-4ea6-8437-6cf734221438')\"\n",
              "              title=\"Convert this dataframe to an interactive table.\"\n",
              "              style=\"display:none;\">\n",
              "        \n",
              "  <svg xmlns=\"http://www.w3.org/2000/svg\" height=\"24px\"viewBox=\"0 0 24 24\"\n",
              "       width=\"24px\">\n",
              "    <path d=\"M0 0h24v24H0V0z\" fill=\"none\"/>\n",
              "    <path d=\"M18.56 5.44l.94 2.06.94-2.06 2.06-.94-2.06-.94-.94-2.06-.94 2.06-2.06.94zm-11 1L8.5 8.5l.94-2.06 2.06-.94-2.06-.94L8.5 2.5l-.94 2.06-2.06.94zm10 10l.94 2.06.94-2.06 2.06-.94-2.06-.94-.94-2.06-.94 2.06-2.06.94z\"/><path d=\"M17.41 7.96l-1.37-1.37c-.4-.4-.92-.59-1.43-.59-.52 0-1.04.2-1.43.59L10.3 9.45l-7.72 7.72c-.78.78-.78 2.05 0 2.83L4 21.41c.39.39.9.59 1.41.59.51 0 1.02-.2 1.41-.59l7.78-7.78 2.81-2.81c.8-.78.8-2.07 0-2.86zM5.41 20L4 18.59l7.72-7.72 1.47 1.35L5.41 20z\"/>\n",
              "  </svg>\n",
              "      </button>\n",
              "      \n",
              "  <style>\n",
              "    .colab-df-container {\n",
              "      display:flex;\n",
              "      flex-wrap:wrap;\n",
              "      gap: 12px;\n",
              "    }\n",
              "\n",
              "    .colab-df-convert {\n",
              "      background-color: #E8F0FE;\n",
              "      border: none;\n",
              "      border-radius: 50%;\n",
              "      cursor: pointer;\n",
              "      display: none;\n",
              "      fill: #1967D2;\n",
              "      height: 32px;\n",
              "      padding: 0 0 0 0;\n",
              "      width: 32px;\n",
              "    }\n",
              "\n",
              "    .colab-df-convert:hover {\n",
              "      background-color: #E2EBFA;\n",
              "      box-shadow: 0px 1px 2px rgba(60, 64, 67, 0.3), 0px 1px 3px 1px rgba(60, 64, 67, 0.15);\n",
              "      fill: #174EA6;\n",
              "    }\n",
              "\n",
              "    [theme=dark] .colab-df-convert {\n",
              "      background-color: #3B4455;\n",
              "      fill: #D2E3FC;\n",
              "    }\n",
              "\n",
              "    [theme=dark] .colab-df-convert:hover {\n",
              "      background-color: #434B5C;\n",
              "      box-shadow: 0px 1px 3px 1px rgba(0, 0, 0, 0.15);\n",
              "      filter: drop-shadow(0px 1px 2px rgba(0, 0, 0, 0.3));\n",
              "      fill: #FFFFFF;\n",
              "    }\n",
              "  </style>\n",
              "\n",
              "      <script>\n",
              "        const buttonEl =\n",
              "          document.querySelector('#df-43b8fd07-5bbc-4ea6-8437-6cf734221438 button.colab-df-convert');\n",
              "        buttonEl.style.display =\n",
              "          google.colab.kernel.accessAllowed ? 'block' : 'none';\n",
              "\n",
              "        async function convertToInteractive(key) {\n",
              "          const element = document.querySelector('#df-43b8fd07-5bbc-4ea6-8437-6cf734221438');\n",
              "          const dataTable =\n",
              "            await google.colab.kernel.invokeFunction('convertToInteractive',\n",
              "                                                     [key], {});\n",
              "          if (!dataTable) return;\n",
              "\n",
              "          const docLinkHtml = 'Like what you see? Visit the ' +\n",
              "            '<a target=\"_blank\" href=https://colab.research.google.com/notebooks/data_table.ipynb>data table notebook</a>'\n",
              "            + ' to learn more about interactive tables.';\n",
              "          element.innerHTML = '';\n",
              "          dataTable['output_type'] = 'display_data';\n",
              "          await google.colab.output.renderOutput(dataTable, element);\n",
              "          const docLink = document.createElement('div');\n",
              "          docLink.innerHTML = docLinkHtml;\n",
              "          element.appendChild(docLink);\n",
              "        }\n",
              "      </script>\n",
              "    </div>\n",
              "  </div>\n",
              "  "
            ]
          },
          "metadata": {}
        }
      ]
    },
    {
      "cell_type": "code",
      "source": [
        "bikes_hdf = hdf.create_dataframe_from_pandas(connection_context=cc, pandas_df=bikes_df, table_name='BIKES',\n",
        "                                      primary_key='days_since_2011',\n",
        "                                      force=True\n",
        "                                     )"
      ],
      "metadata": {
        "colab": {
          "base_uri": "https://localhost:8080/"
        },
        "id": "D7vR1Q4Fzn-L",
        "outputId": "04a52d59-4140-4f9a-be01-79a36332fba6"
      },
      "execution_count": 40,
      "outputs": [
        {
          "output_type": "stream",
          "name": "stderr",
          "text": [
            "100%|██████████| 1/1 [00:00<00:00,  6.15it/s]\n"
          ]
        }
      ]
    },
    {
      "cell_type": "code",
      "source": [
        "display(bikes_hdf)"
      ],
      "metadata": {
        "colab": {
          "base_uri": "https://localhost:8080/",
          "height": 34
        },
        "id": "2TBIePWR2RyG",
        "outputId": "327774ff-6835-4c67-aef4-74a5d77f98a8"
      },
      "execution_count": 41,
      "outputs": [
        {
          "output_type": "display_data",
          "data": {
            "text/plain": [
              "<hana_ml.dataframe.DataFrame at 0x7f39070e2670>"
            ]
          },
          "metadata": {}
        }
      ]
    },
    {
      "cell_type": "code",
      "source": [
        "type(bikes_hdf)"
      ],
      "metadata": {
        "colab": {
          "base_uri": "https://localhost:8080/"
        },
        "id": "GVtkw46T2YE7",
        "outputId": "83bd21e0-b215-4454-8e09-ddeb1e3ad4e4"
      },
      "execution_count": 42,
      "outputs": [
        {
          "output_type": "execute_result",
          "data": {
            "text/plain": [
              "hana_ml.dataframe.DataFrame"
            ]
          },
          "metadata": {},
          "execution_count": 42
        }
      ]
    },
    {
      "cell_type": "code",
      "source": [
        "print(bikes_hdf.select_statement)"
      ],
      "metadata": {
        "colab": {
          "base_uri": "https://localhost:8080/"
        },
        "id": "s4-ctD1M2b6b",
        "outputId": "ebf9ccbe-dd25-439e-9cde-9ce39d752d3f"
      },
      "execution_count": 44,
      "outputs": [
        {
          "output_type": "stream",
          "name": "stdout",
          "text": [
            "SELECT * FROM \"BIKES\"\n"
          ]
        }
      ]
    },
    {
      "cell_type": "code",
      "source": [
        "bikes_hdf.collect().head(n=10)"
      ],
      "metadata": {
        "colab": {
          "base_uri": "https://localhost:8080/",
          "height": 363
        },
        "id": "tiyhlenP28wA",
        "outputId": "479627ba-dacf-4de1-c2bf-4e1f28333805"
      },
      "execution_count": 45,
      "outputs": [
        {
          "output_type": "execute_result",
          "data": {
            "text/plain": [
              "   season    yr mnth     holiday weekday      workingday weathersit      temp  \\\n",
              "0  WINTER  2011  JAN  NO HOLIDAY     SAT  NO WORKING DAY      MISTY  8.175849   \n",
              "1  WINTER  2011  JAN  NO HOLIDAY     SUN  NO WORKING DAY      MISTY  9.083466   \n",
              "2  WINTER  2011  JAN  NO HOLIDAY     MON     WORKING DAY       GOOD  1.229108   \n",
              "3  WINTER  2011  JAN  NO HOLIDAY     TUE     WORKING DAY       GOOD  1.400000   \n",
              "4  WINTER  2011  JAN  NO HOLIDAY     WED     WORKING DAY       GOOD  2.666979   \n",
              "5  WINTER  2011  JAN  NO HOLIDAY     THU     WORKING DAY       GOOD  1.604356   \n",
              "6  WINTER  2011  JAN  NO HOLIDAY     FRI     WORKING DAY      MISTY  1.236534   \n",
              "7  WINTER  2011  JAN  NO HOLIDAY     SAT  NO WORKING DAY      MISTY -0.245000   \n",
              "8  WINTER  2011  JAN  NO HOLIDAY     SUN  NO WORKING DAY       GOOD -1.498349   \n",
              "9  WINTER  2011  JAN  NO HOLIDAY     MON     WORKING DAY       GOOD -0.910849   \n",
              "\n",
              "       hum  windspeed   cnt  days_since_2011  \n",
              "0  80.5833  10.749882   985                0  \n",
              "1  69.6087  16.652113   801                1  \n",
              "2  43.7273  16.636703  1349                2  \n",
              "3  59.0435  10.739832  1562                3  \n",
              "4  43.6957  12.522300  1600                4  \n",
              "5  51.8261   6.000868  1606                5  \n",
              "6  49.8696  11.304642  1510                6  \n",
              "7  53.5833  17.875868   959                7  \n",
              "8  43.4167  24.250650   822                8  \n",
              "9  48.2917  14.958889  1321                9  "
            ],
            "text/html": [
              "\n",
              "  <div id=\"df-eff93652-1599-4faf-b7b6-288622c0f6d2\">\n",
              "    <div class=\"colab-df-container\">\n",
              "      <div>\n",
              "<style scoped>\n",
              "    .dataframe tbody tr th:only-of-type {\n",
              "        vertical-align: middle;\n",
              "    }\n",
              "\n",
              "    .dataframe tbody tr th {\n",
              "        vertical-align: top;\n",
              "    }\n",
              "\n",
              "    .dataframe thead th {\n",
              "        text-align: right;\n",
              "    }\n",
              "</style>\n",
              "<table border=\"1\" class=\"dataframe\">\n",
              "  <thead>\n",
              "    <tr style=\"text-align: right;\">\n",
              "      <th></th>\n",
              "      <th>season</th>\n",
              "      <th>yr</th>\n",
              "      <th>mnth</th>\n",
              "      <th>holiday</th>\n",
              "      <th>weekday</th>\n",
              "      <th>workingday</th>\n",
              "      <th>weathersit</th>\n",
              "      <th>temp</th>\n",
              "      <th>hum</th>\n",
              "      <th>windspeed</th>\n",
              "      <th>cnt</th>\n",
              "      <th>days_since_2011</th>\n",
              "    </tr>\n",
              "  </thead>\n",
              "  <tbody>\n",
              "    <tr>\n",
              "      <th>0</th>\n",
              "      <td>WINTER</td>\n",
              "      <td>2011</td>\n",
              "      <td>JAN</td>\n",
              "      <td>NO HOLIDAY</td>\n",
              "      <td>SAT</td>\n",
              "      <td>NO WORKING DAY</td>\n",
              "      <td>MISTY</td>\n",
              "      <td>8.175849</td>\n",
              "      <td>80.5833</td>\n",
              "      <td>10.749882</td>\n",
              "      <td>985</td>\n",
              "      <td>0</td>\n",
              "    </tr>\n",
              "    <tr>\n",
              "      <th>1</th>\n",
              "      <td>WINTER</td>\n",
              "      <td>2011</td>\n",
              "      <td>JAN</td>\n",
              "      <td>NO HOLIDAY</td>\n",
              "      <td>SUN</td>\n",
              "      <td>NO WORKING DAY</td>\n",
              "      <td>MISTY</td>\n",
              "      <td>9.083466</td>\n",
              "      <td>69.6087</td>\n",
              "      <td>16.652113</td>\n",
              "      <td>801</td>\n",
              "      <td>1</td>\n",
              "    </tr>\n",
              "    <tr>\n",
              "      <th>2</th>\n",
              "      <td>WINTER</td>\n",
              "      <td>2011</td>\n",
              "      <td>JAN</td>\n",
              "      <td>NO HOLIDAY</td>\n",
              "      <td>MON</td>\n",
              "      <td>WORKING DAY</td>\n",
              "      <td>GOOD</td>\n",
              "      <td>1.229108</td>\n",
              "      <td>43.7273</td>\n",
              "      <td>16.636703</td>\n",
              "      <td>1349</td>\n",
              "      <td>2</td>\n",
              "    </tr>\n",
              "    <tr>\n",
              "      <th>3</th>\n",
              "      <td>WINTER</td>\n",
              "      <td>2011</td>\n",
              "      <td>JAN</td>\n",
              "      <td>NO HOLIDAY</td>\n",
              "      <td>TUE</td>\n",
              "      <td>WORKING DAY</td>\n",
              "      <td>GOOD</td>\n",
              "      <td>1.400000</td>\n",
              "      <td>59.0435</td>\n",
              "      <td>10.739832</td>\n",
              "      <td>1562</td>\n",
              "      <td>3</td>\n",
              "    </tr>\n",
              "    <tr>\n",
              "      <th>4</th>\n",
              "      <td>WINTER</td>\n",
              "      <td>2011</td>\n",
              "      <td>JAN</td>\n",
              "      <td>NO HOLIDAY</td>\n",
              "      <td>WED</td>\n",
              "      <td>WORKING DAY</td>\n",
              "      <td>GOOD</td>\n",
              "      <td>2.666979</td>\n",
              "      <td>43.6957</td>\n",
              "      <td>12.522300</td>\n",
              "      <td>1600</td>\n",
              "      <td>4</td>\n",
              "    </tr>\n",
              "    <tr>\n",
              "      <th>5</th>\n",
              "      <td>WINTER</td>\n",
              "      <td>2011</td>\n",
              "      <td>JAN</td>\n",
              "      <td>NO HOLIDAY</td>\n",
              "      <td>THU</td>\n",
              "      <td>WORKING DAY</td>\n",
              "      <td>GOOD</td>\n",
              "      <td>1.604356</td>\n",
              "      <td>51.8261</td>\n",
              "      <td>6.000868</td>\n",
              "      <td>1606</td>\n",
              "      <td>5</td>\n",
              "    </tr>\n",
              "    <tr>\n",
              "      <th>6</th>\n",
              "      <td>WINTER</td>\n",
              "      <td>2011</td>\n",
              "      <td>JAN</td>\n",
              "      <td>NO HOLIDAY</td>\n",
              "      <td>FRI</td>\n",
              "      <td>WORKING DAY</td>\n",
              "      <td>MISTY</td>\n",
              "      <td>1.236534</td>\n",
              "      <td>49.8696</td>\n",
              "      <td>11.304642</td>\n",
              "      <td>1510</td>\n",
              "      <td>6</td>\n",
              "    </tr>\n",
              "    <tr>\n",
              "      <th>7</th>\n",
              "      <td>WINTER</td>\n",
              "      <td>2011</td>\n",
              "      <td>JAN</td>\n",
              "      <td>NO HOLIDAY</td>\n",
              "      <td>SAT</td>\n",
              "      <td>NO WORKING DAY</td>\n",
              "      <td>MISTY</td>\n",
              "      <td>-0.245000</td>\n",
              "      <td>53.5833</td>\n",
              "      <td>17.875868</td>\n",
              "      <td>959</td>\n",
              "      <td>7</td>\n",
              "    </tr>\n",
              "    <tr>\n",
              "      <th>8</th>\n",
              "      <td>WINTER</td>\n",
              "      <td>2011</td>\n",
              "      <td>JAN</td>\n",
              "      <td>NO HOLIDAY</td>\n",
              "      <td>SUN</td>\n",
              "      <td>NO WORKING DAY</td>\n",
              "      <td>GOOD</td>\n",
              "      <td>-1.498349</td>\n",
              "      <td>43.4167</td>\n",
              "      <td>24.250650</td>\n",
              "      <td>822</td>\n",
              "      <td>8</td>\n",
              "    </tr>\n",
              "    <tr>\n",
              "      <th>9</th>\n",
              "      <td>WINTER</td>\n",
              "      <td>2011</td>\n",
              "      <td>JAN</td>\n",
              "      <td>NO HOLIDAY</td>\n",
              "      <td>MON</td>\n",
              "      <td>WORKING DAY</td>\n",
              "      <td>GOOD</td>\n",
              "      <td>-0.910849</td>\n",
              "      <td>48.2917</td>\n",
              "      <td>14.958889</td>\n",
              "      <td>1321</td>\n",
              "      <td>9</td>\n",
              "    </tr>\n",
              "  </tbody>\n",
              "</table>\n",
              "</div>\n",
              "      <button class=\"colab-df-convert\" onclick=\"convertToInteractive('df-eff93652-1599-4faf-b7b6-288622c0f6d2')\"\n",
              "              title=\"Convert this dataframe to an interactive table.\"\n",
              "              style=\"display:none;\">\n",
              "        \n",
              "  <svg xmlns=\"http://www.w3.org/2000/svg\" height=\"24px\"viewBox=\"0 0 24 24\"\n",
              "       width=\"24px\">\n",
              "    <path d=\"M0 0h24v24H0V0z\" fill=\"none\"/>\n",
              "    <path d=\"M18.56 5.44l.94 2.06.94-2.06 2.06-.94-2.06-.94-.94-2.06-.94 2.06-2.06.94zm-11 1L8.5 8.5l.94-2.06 2.06-.94-2.06-.94L8.5 2.5l-.94 2.06-2.06.94zm10 10l.94 2.06.94-2.06 2.06-.94-2.06-.94-.94-2.06-.94 2.06-2.06.94z\"/><path d=\"M17.41 7.96l-1.37-1.37c-.4-.4-.92-.59-1.43-.59-.52 0-1.04.2-1.43.59L10.3 9.45l-7.72 7.72c-.78.78-.78 2.05 0 2.83L4 21.41c.39.39.9.59 1.41.59.51 0 1.02-.2 1.41-.59l7.78-7.78 2.81-2.81c.8-.78.8-2.07 0-2.86zM5.41 20L4 18.59l7.72-7.72 1.47 1.35L5.41 20z\"/>\n",
              "  </svg>\n",
              "      </button>\n",
              "      \n",
              "  <style>\n",
              "    .colab-df-container {\n",
              "      display:flex;\n",
              "      flex-wrap:wrap;\n",
              "      gap: 12px;\n",
              "    }\n",
              "\n",
              "    .colab-df-convert {\n",
              "      background-color: #E8F0FE;\n",
              "      border: none;\n",
              "      border-radius: 50%;\n",
              "      cursor: pointer;\n",
              "      display: none;\n",
              "      fill: #1967D2;\n",
              "      height: 32px;\n",
              "      padding: 0 0 0 0;\n",
              "      width: 32px;\n",
              "    }\n",
              "\n",
              "    .colab-df-convert:hover {\n",
              "      background-color: #E2EBFA;\n",
              "      box-shadow: 0px 1px 2px rgba(60, 64, 67, 0.3), 0px 1px 3px 1px rgba(60, 64, 67, 0.15);\n",
              "      fill: #174EA6;\n",
              "    }\n",
              "\n",
              "    [theme=dark] .colab-df-convert {\n",
              "      background-color: #3B4455;\n",
              "      fill: #D2E3FC;\n",
              "    }\n",
              "\n",
              "    [theme=dark] .colab-df-convert:hover {\n",
              "      background-color: #434B5C;\n",
              "      box-shadow: 0px 1px 3px 1px rgba(0, 0, 0, 0.15);\n",
              "      filter: drop-shadow(0px 1px 2px rgba(0, 0, 0, 0.3));\n",
              "      fill: #FFFFFF;\n",
              "    }\n",
              "  </style>\n",
              "\n",
              "      <script>\n",
              "        const buttonEl =\n",
              "          document.querySelector('#df-eff93652-1599-4faf-b7b6-288622c0f6d2 button.colab-df-convert');\n",
              "        buttonEl.style.display =\n",
              "          google.colab.kernel.accessAllowed ? 'block' : 'none';\n",
              "\n",
              "        async function convertToInteractive(key) {\n",
              "          const element = document.querySelector('#df-eff93652-1599-4faf-b7b6-288622c0f6d2');\n",
              "          const dataTable =\n",
              "            await google.colab.kernel.invokeFunction('convertToInteractive',\n",
              "                                                     [key], {});\n",
              "          if (!dataTable) return;\n",
              "\n",
              "          const docLinkHtml = 'Like what you see? Visit the ' +\n",
              "            '<a target=\"_blank\" href=https://colab.research.google.com/notebooks/data_table.ipynb>data table notebook</a>'\n",
              "            + ' to learn more about interactive tables.';\n",
              "          element.innerHTML = '';\n",
              "          dataTable['output_type'] = 'display_data';\n",
              "          await google.colab.output.renderOutput(dataTable, element);\n",
              "          const docLink = document.createElement('div');\n",
              "          docLink.innerHTML = docLinkHtml;\n",
              "          element.appendChild(docLink);\n",
              "        }\n",
              "      </script>\n",
              "    </div>\n",
              "  </div>\n",
              "  "
            ]
          },
          "metadata": {},
          "execution_count": 45
        }
      ]
    },
    {
      "cell_type": "code",
      "source": [
        "bikes_hdf.shape"
      ],
      "metadata": {
        "colab": {
          "base_uri": "https://localhost:8080/"
        },
        "id": "Z1sVhuJR2_ES",
        "outputId": "2cb15051-3647-4ba9-f52a-850f1a0bebd9"
      },
      "execution_count": 46,
      "outputs": [
        {
          "output_type": "execute_result",
          "data": {
            "text/plain": [
              "[731, 12]"
            ]
          },
          "metadata": {},
          "execution_count": 46
        }
      ]
    },
    {
      "cell_type": "code",
      "source": [
        "bikes_hdf.collect()[\"season\"].unique().tolist()"
      ],
      "metadata": {
        "colab": {
          "base_uri": "https://localhost:8080/"
        },
        "id": "Lwveulry3c_-",
        "outputId": "55ffd9af-fe15-4aac-f136-7c21293e8111"
      },
      "execution_count": 50,
      "outputs": [
        {
          "output_type": "execute_result",
          "data": {
            "text/plain": [
              "['WINTER', 'SPRING', 'SUMMER', 'FALL']"
            ]
          },
          "metadata": {},
          "execution_count": 50
        }
      ]
    }
  ]
}